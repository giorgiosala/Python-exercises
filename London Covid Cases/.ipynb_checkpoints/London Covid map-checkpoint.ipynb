{
 "cells": [
  {
   "cell_type": "markdown",
   "metadata": {},
   "source": [
    "# Coronavirus daily new cases per London Borough\n",
    "\n",
    "Author: Giorgio Sala\n",
    "\n",
    "Objective:\n",
    "This program reads a csv file of Coronavirus cases per london borough and \n",
    "displays the data in a shapefile of london.  \n",
    "\n",
    "\n",
    "Libraries that must be installed to run the program:\n",
    "\n",
    "- Geopandas and its dependencies must be downloaded and installed. (https://geopandas.org/install.html#creating-a-new-environment)\n",
    "- Matplotlib\n",
    "- Pandas\n",
    "- Numpy\n",
    "- Pillow\n",
    "\n",
    "Mapclassify must be installed (in terminal: \"pip install mapclassify\")\n",
    "\n",
    "The CSV file was downloaded from:\n",
    "https://data.london.gov.uk/download/coronavirus--covid-19--cases/151e497c-a16e-414e-9e03-9e428f555ae9/phe_cases_london_boroughs.csv\n",
    "The shapefile was downloaded from: \n",
    "https://data.london.gov.uk/download/statistical-gis-boundary-files-london/08d31995-dd27-423c-a987-57fe8e952990/London-wards-2018.zip\n",
    "\n",
    "(QGIS 3.10 was used to merge all the districts of a borough in one single shape)\n"
   ]
  },
  {
   "cell_type": "markdown",
   "metadata": {},
   "source": [
    "The programs starts by importing all the necessary libraries and modifing the two files"
   ]
  },
  {
   "cell_type": "code",
   "execution_count": null,
   "metadata": {},
   "outputs": [],
   "source": [
    "import geopandas as gpd\n",
    "import matplotlib.pyplot as plt\n",
    "import pandas as pd\n",
    "import numpy as np\n",
    "import PIL\n",
    "import io\n",
    "\n",
    "image_frame=[]\n",
    "#Read the CSV file and pivot the table to easier analisis\n",
    "district= pd.read_csv(\"phe_cases_london_boroughs.csv\")\n",
    "district = pd.pivot_table(district, values='new_cases', index=[\"NAME\"], columns=['date'], aggfunc=np.sum)\n",
    "#Read the SHP file and drop the not useful columns\n",
    "london = gpd.read_file(r\"/Users/giorgiosala/Documents/pe/map/londonb.shp\")\n",
    "london = london.drop(columns=[\"NAME\",\"GSS_CODE\",\"NONLD_AREA\",\"LAGSSCODE\",\"HECTARES\"])"
   ]
  },
  {
   "cell_type": "markdown",
   "metadata": {},
   "source": [
    "Search for names that doesen't match between CSV file and SHP file ( The not matching names were changed in the CSV file.). After the changes, this line of code was commented to since it has no more use."
   ]
  },
  {
   "cell_type": "code",
   "execution_count": null,
   "metadata": {},
   "outputs": [],
   "source": [
    "\"\"\"\n",
    "\n",
    "for index,row in district.iterrows():\n",
    "    if index not in london[\"DISTRICT\"].to_list():\n",
    "        print(index)\n",
    "    else:\n",
    "        pass\n",
    "    \n",
    "\n",
    "\"\"\""
   ]
  },
  {
   "cell_type": "markdown",
   "metadata": {},
   "source": [
    "Merging \"district\" with \"london\" geopandas geodataframe and running a loop to create the london map with a legend. "
   ]
  },
  {
   "cell_type": "code",
   "execution_count": null,
   "metadata": {},
   "outputs": [],
   "source": [
    "#Merging \"district\" with \"london\" geopandas geodataframe\n",
    "merge = london.join(district, on=\"DISTRICT\", how=\"right\")\n",
    "\n",
    "for dates in merge.columns.to_list()[2:]:\n",
    "    #Plot\n",
    "    print(dates)\n",
    "    ax= merge.plot(column = dates,\n",
    "                   figsize=(15,13),\n",
    "                   vmin = 0,\n",
    "                   vmax = 1100,\n",
    "                   cmap='OrRd', \n",
    "                   linewidth=0.1,\n",
    "                   legend_kwds={'shrink': 0.5,},\n",
    "                   edgecolor='black', \n",
    "                   legend=True\n",
    "                   )\n",
    "    \n",
    "    #Assign name to shapes\n",
    "    merge.apply(lambda x: ax.annotate(text=x.DISTRICT, xy=x.geometry.centroid.coords[0], ha='center'),axis=1);\n",
    "    \n",
    "    #Disable axis\n",
    "    ax.set_axis_off()\n",
    "    \n",
    "    #Insert a Title\n",
    "    ax.set_title(\"Total Covid Cases per London District \\n\\n\"+ dates, fontsize=30 )\n",
    "    \n",
    "    \n",
    "    #Insert the graph inside a image_frame\n",
    "    img= ax.get_figure()\n",
    "    \n",
    "    f= io.BytesIO()\n",
    "    img.savefig(f, format=\"png\")\n",
    "    f.seek(0)\n",
    "    image_frame.append(PIL.Image.open(f))\n",
    "\n"
   ]
  },
  {
   "cell_type": "markdown",
   "metadata": {},
   "source": [
    "Save all the graphs inside *image_frame* and save them as a gif file and close the file"
   ]
  },
  {
   "cell_type": "code",
   "execution_count": null,
   "metadata": {},
   "outputs": [],
   "source": [
    "#create a gif\n",
    "image_frame[0].save(\"Dinamic covid 19 map of london.gif\",format=\"GIF\",\n",
    "                     append_images= image_frame[1:],\n",
    "                     save_all= True,\n",
    "                     duration=300,\n",
    "                     loop=1,\n",
    "                     )\n",
    "\n",
    "\n",
    "\n",
    "f.close()"
   ]
  }
 ],
 "metadata": {
  "kernelspec": {
   "display_name": "Python 3",
   "language": "python",
   "name": "python3"
  },
  "language_info": {
   "codemirror_mode": {
    "name": "ipython",
    "version": 3
   },
   "file_extension": ".py",
   "mimetype": "text/x-python",
   "name": "python",
   "nbconvert_exporter": "python",
   "pygments_lexer": "ipython3",
   "version": "3.8.5"
  }
 },
 "nbformat": 4,
 "nbformat_minor": 4
}
